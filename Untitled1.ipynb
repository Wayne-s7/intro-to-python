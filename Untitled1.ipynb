{
  "nbformat": 4,
  "nbformat_minor": 0,
  "metadata": {
    "colab": {
      "provenance": [],
      "authorship_tag": "ABX9TyOg2Ls0B4W+j+1FfBH1cNf0",
      "include_colab_link": true
    },
    "kernelspec": {
      "name": "python3",
      "display_name": "Python 3"
    },
    "language_info": {
      "name": "python"
    }
  },
  "cells": [
    {
      "cell_type": "markdown",
      "metadata": {
        "id": "view-in-github",
        "colab_type": "text"
      },
      "source": [
        "<a href=\"https://colab.research.google.com/github/Wayne-s7/intro-to-python/blob/main/Untitled1.ipynb\" target=\"_parent\"><img src=\"https://colab.research.google.com/assets/colab-badge.svg\" alt=\"Open In Colab\"/></a>"
      ]
    },
    {
      "cell_type": "code",
      "execution_count": 1,
      "metadata": {
        "colab": {
          "base_uri": "https://localhost:8080/"
        },
        "id": "jLQioon4cmHl",
        "outputId": "339e8098-6b44-45d0-fc58-ee9bcd924b02"
      },
      "outputs": [
        {
          "output_type": "stream",
          "name": "stdout",
          "text": [
            "Welcome to Python Programming!\n",
            "This file contains multiple lines.\n",
            "You can read this file line by line.\n",
            "File handling is very useful.\n",
            "Let's learn by doing.\n"
          ]
        }
      ],
      "source": [
        "file =open(\"example.txt\",\"r\")\n",
        "content = file.read()\n",
        "print(content)\n",
        "file.close()"
      ]
    },
    {
      "cell_type": "code",
      "source": [
        "file =open(\"example.txt\",\"r\")\n",
        "line_1 = file.readline()\n",
        "all_lines = file.readline()\n",
        "file.close()\n",
        "print(line_1)\n",
        "print(all_lines)"
      ],
      "metadata": {
        "colab": {
          "base_uri": "https://localhost:8080/"
        },
        "id": "Al1-30fXcw9I",
        "outputId": "0f2d021c-05cd-4301-a7ed-206af5b32705"
      },
      "execution_count": 2,
      "outputs": [
        {
          "output_type": "stream",
          "name": "stdout",
          "text": [
            "Welcome to Python Programming!\n",
            "\n",
            "This file contains multiple lines.\n",
            "\n"
          ]
        }
      ]
    },
    {
      "cell_type": "code",
      "source": [
        "file =open(\"output.txt\",\"w\")\n",
        "file.write(\"This is a new file.\\n\")\n",
        "file.write(\"Hello world!\\n\")\n",
        "file.close()"
      ],
      "metadata": {
        "id": "PIijfA_6dPbC"
      },
      "execution_count": 3,
      "outputs": []
    },
    {
      "cell_type": "code",
      "source": [
        "print(\"\\\\\")"
      ],
      "metadata": {
        "colab": {
          "base_uri": "https://localhost:8080/"
        },
        "id": "bDjMSuKEf0x7",
        "outputId": "6e3b3025-432d-4668-82bf-82a63ab58f7b"
      },
      "execution_count": 4,
      "outputs": [
        {
          "output_type": "stream",
          "name": "stdout",
          "text": [
            "\\\n"
          ]
        }
      ]
    },
    {
      "cell_type": "code",
      "source": [
        "print(\"+\")"
      ],
      "metadata": {
        "colab": {
          "base_uri": "https://localhost:8080/"
        },
        "id": "9eeyDm0uf54w",
        "outputId": "deef5fad-969b-41e0-ef06-6b273408abbb"
      },
      "execution_count": 5,
      "outputs": [
        {
          "output_type": "stream",
          "name": "stdout",
          "text": [
            "+\n"
          ]
        }
      ]
    },
    {
      "cell_type": "code",
      "source": [],
      "metadata": {
        "id": "IEtrlFOTf-70"
      },
      "execution_count": null,
      "outputs": []
    }
  ]
}